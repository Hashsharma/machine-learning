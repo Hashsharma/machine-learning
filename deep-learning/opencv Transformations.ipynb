{
 "cells": [
  {
   "cell_type": "code",
   "execution_count": 1,
   "metadata": {},
   "outputs": [
    {
     "data": {
      "text/plain": [
       "'\\nScaling is just resizing of the image. OpenCV comes with a function cv.resize() for this purpose. \\nThe size of the image can be specified manually, or you can specify the scaling factor. \\nDifferent interpolation methods are used. Preferable interpolation methods are \\ncv.INTER_AREA for shrinking and cv.INTER_CUBIC (slow) & cv.INTER_LINEAR for zooming. By default, \\nthe interpolation method cv.INTER_LINEAR is used for all resizing purposes.\\n'"
      ]
     },
     "execution_count": 1,
     "metadata": {},
     "output_type": "execute_result"
    }
   ],
   "source": [
    "'''\n",
    "Scaling is just resizing of the image. OpenCV comes with a function cv.resize() for this purpose. \n",
    "The size of the image can be specified manually, or you can specify the scaling factor. \n",
    "Different interpolation methods are used. Preferable interpolation methods are \n",
    "cv.INTER_AREA for shrinking and cv.INTER_CUBIC (slow) & cv.INTER_LINEAR for zooming. By default, \n",
    "the interpolation method cv.INTER_LINEAR is used for all resizing purposes.\n",
    "'''"
   ]
  },
  {
   "cell_type": "code",
   "execution_count": 1,
   "metadata": {},
   "outputs": [],
   "source": [
    "import cv2 as cv\n",
    "\n",
    "img = cv.imread('../resource/images/low_res_deep_dream2.jpg', cv.IMREAD_UNCHANGED)"
   ]
  },
  {
   "cell_type": "code",
   "execution_count": 2,
   "metadata": {},
   "outputs": [],
   "source": [
    "## Scaling an image \n",
    "scale_img = cv.resize(img, None, fx=2, fy=2, interpolation=cv.INTER_CUBIC)\n",
    "cv.imshow('Gray Image', img)\n",
    "cv.imshow('Scaled Image', scale_img)\n",
    "cv.waitKey(0)\n",
    "cv.destroyAllWindows()\n",
    "\n",
    "# It increase the resolution but not the clean or fix the photo"
   ]
  },
  {
   "cell_type": "code",
   "execution_count": 3,
   "metadata": {},
   "outputs": [],
   "source": [
    "# Translation\n",
    "# Translation is the shifting of an object's location. If you know the shift in the (x,y) direction and let it be\n",
    "# Affine refers to a type of transformation that preserves certain geometric properties such as straight lines and parallelism, but not necessarily distances or angles.\n",
    "import numpy as np\n",
    "img_gray = cv.cvtColor(img, cv.COLOR_BGR2GRAY)\n",
    "rows, columns = img_gray.shape\n",
    "m = np.float32([[1, 0, 100], [0, 1, 50]])\n",
    "dst = cv.warpAffine(img_gray, m, (columns, rows))\n",
    "cv.imshow('Original images', img_gray)\n",
    "cv.imshow('Translated images', dst)\n",
    "cv.waitKey(0)\n",
    "cv.destroyAllWindows()"
   ]
  },
  {
   "cell_type": "code",
   "execution_count": null,
   "metadata": {},
   "outputs": [
    {
     "data": {
      "text/plain": [
       "(240, 240, 3)"
      ]
     },
     "execution_count": 5,
     "metadata": {},
     "output_type": "execute_result"
    }
   ],
   "source": []
  },
  {
   "cell_type": "code",
   "execution_count": null,
   "metadata": {},
   "outputs": [],
   "source": []
  }
 ],
 "metadata": {
  "kernelspec": {
   "display_name": "dl_venv",
   "language": "python",
   "name": "dl_venv"
  },
  "language_info": {
   "codemirror_mode": {
    "name": "ipython",
    "version": 3
   },
   "file_extension": ".py",
   "mimetype": "text/x-python",
   "name": "python",
   "nbconvert_exporter": "python",
   "pygments_lexer": "ipython3",
   "version": "3.10.9"
  }
 },
 "nbformat": 4,
 "nbformat_minor": 2
}
