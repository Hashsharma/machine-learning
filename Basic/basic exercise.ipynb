{
 "cells": [
  {
   "cell_type": "code",
   "execution_count": 1,
   "metadata": {},
   "outputs": [
    {
     "data": {
      "text/plain": [
       "'2.5.1+cu118'"
      ]
     },
     "execution_count": 1,
     "metadata": {},
     "output_type": "execute_result"
    }
   ],
   "source": [
    "import torch\n",
    "torch.__version__"
   ]
  },
  {
   "cell_type": "code",
   "execution_count": 9,
   "metadata": {},
   "outputs": [
    {
     "data": {
      "text/plain": [
       "(tensor([[[1, 1, 1],\n",
       "          [2, 2, 2],\n",
       "          [3, 3, 3]]]),\n",
       " torch.Size([1, 3, 3]))"
      ]
     },
     "execution_count": 9,
     "metadata": {},
     "output_type": "execute_result"
    }
   ],
   "source": [
    "ten = torch.tensor([[[1, 1, 1],\n",
    "                     [2, 2, 2],\n",
    "                     [3, 3, 3]]])\n",
    "ten, ten.shape"
   ]
  },
  {
   "cell_type": "code",
   "execution_count": 10,
   "metadata": {},
   "outputs": [
    {
     "data": {
      "text/plain": [
       "(tensor([[[1, 1, 1],\n",
       "          [2, 2, 2],\n",
       "          [3, 3, 3]],\n",
       " \n",
       "         [[4, 1, 1],\n",
       "          [5, 2, 2],\n",
       "          [6, 3, 3]]]),\n",
       " torch.Size([2, 3, 3]))"
      ]
     },
     "execution_count": 10,
     "metadata": {},
     "output_type": "execute_result"
    }
   ],
   "source": [
    "ten2 = torch.tensor([[[1, 1, 1],\n",
    "         [2, 2, 2],\n",
    "         [3, 3, 3]],\n",
    "         [[4, 1, 1],\n",
    "         [5, 2, 2],\n",
    "         [6, 3, 3]]])\n",
    "ten2, ten2.shape"
   ]
  },
  {
   "cell_type": "code",
   "execution_count": 11,
   "metadata": {},
   "outputs": [
    {
     "data": {
      "text/plain": [
       "(tensor([[0.9633, 0.7745, 0.9519, 0.8847],\n",
       "         [0.1504, 0.4983, 0.5791, 0.5477],\n",
       "         [0.1870, 0.5213, 0.4742, 0.2263]]),\n",
       " torch.Size([3, 4]))"
      ]
     },
     "execution_count": 11,
     "metadata": {},
     "output_type": "execute_result"
    }
   ],
   "source": [
    "### Random Tensor\n",
    "random_tensor = torch.rand(3, 4)\n",
    "random_tensor, random_tensor.shape"
   ]
  },
  {
   "cell_type": "code",
   "execution_count": 12,
   "metadata": {},
   "outputs": [
    {
     "data": {
      "text/plain": [
       "(tensor([[[0.9078, 0.7686, 0.4780, 0.1974],\n",
       "          [0.0215, 0.3679, 0.2860, 0.7843],\n",
       "          [0.5658, 0.7912, 0.9407, 0.5126]],\n",
       " \n",
       "         [[0.4000, 0.5764, 0.2331, 0.3645],\n",
       "          [0.0842, 0.0304, 0.8132, 0.2117],\n",
       "          [0.4307, 0.7186, 0.1802, 0.1744]]]),\n",
       " torch.Size([2, 3, 4]))"
      ]
     },
     "execution_count": 12,
     "metadata": {},
     "output_type": "execute_result"
    }
   ],
   "source": [
    "## Random Tensor 2, 3, 4\n",
    "random_ten2 = torch.rand(2, 3, 4)\n",
    "random_ten2, random_ten2.shape"
   ]
  },
  {
   "cell_type": "code",
   "execution_count": 6,
   "metadata": {},
   "outputs": [
    {
     "data": {
      "text/plain": [
       "(tensor([[6.5648e-01, 8.7407e-01, 1.2450e-01],\n",
       "         [4.1608e-01, 1.3138e-01, 4.5992e-02],\n",
       "         [2.8076e-01, 4.9633e-01, 1.9732e-01],\n",
       "         [6.8175e-01, 1.6838e-01, 7.3692e-01],\n",
       "         [6.3104e-01, 7.8912e-01, 7.7501e-01],\n",
       "         [7.3309e-01, 3.2064e-02, 2.0470e-01],\n",
       "         [8.3805e-01, 5.4463e-01, 1.3578e-01],\n",
       "         [5.5693e-01, 4.5431e-01, 7.1371e-01],\n",
       "         [8.1259e-01, 7.2943e-01, 7.6214e-01],\n",
       "         [3.7308e-01, 4.9533e-01, 1.9765e-01],\n",
       "         [5.1878e-02, 7.5658e-01, 3.9691e-01],\n",
       "         [8.1507e-01, 6.8570e-01, 2.8393e-01],\n",
       "         [7.6590e-01, 4.8642e-01, 1.6362e-01],\n",
       "         [1.3013e-02, 8.0368e-01, 3.0519e-01],\n",
       "         [3.6395e-04, 5.0395e-01, 6.5795e-01],\n",
       "         [1.9744e-01, 7.8024e-01, 1.5131e-01],\n",
       "         [2.4254e-01, 3.7990e-02, 5.5219e-01],\n",
       "         [9.6721e-01, 8.5262e-01, 3.3696e-01],\n",
       "         [6.3939e-02, 6.3703e-01, 9.9579e-01],\n",
       "         [7.0475e-01, 5.9598e-01, 6.8779e-01],\n",
       "         [7.8934e-01, 4.9962e-01, 3.9702e-01],\n",
       "         [9.3109e-02, 6.2774e-01, 3.2796e-01],\n",
       "         [5.2548e-01, 5.0181e-01, 1.5059e-01],\n",
       "         [4.7445e-01, 2.0411e-01, 6.6825e-01],\n",
       "         [2.2124e-01, 6.8963e-01, 2.2631e-01],\n",
       "         [8.0648e-01, 9.8233e-01, 1.6614e-01],\n",
       "         [3.8812e-01, 6.3513e-01, 2.0444e-01],\n",
       "         [6.3297e-01, 1.4234e-01, 4.3013e-01],\n",
       "         [9.4535e-01, 8.6038e-01, 4.0556e-01],\n",
       "         [5.3137e-01, 7.7413e-02, 7.6726e-01],\n",
       "         [4.4704e-01, 4.3323e-01, 3.9243e-01],\n",
       "         [7.9651e-01, 4.1308e-01, 5.1303e-01],\n",
       "         [3.6193e-01, 2.6027e-01, 3.3103e-01],\n",
       "         [9.8596e-01, 1.5149e-01, 1.7787e-01],\n",
       "         [1.2044e-01, 1.4999e-01, 2.6562e-01],\n",
       "         [7.8482e-01, 8.5209e-01, 7.2187e-02],\n",
       "         [6.9262e-02, 6.1418e-01, 9.5258e-01],\n",
       "         [6.2882e-01, 8.4729e-01, 9.9388e-01],\n",
       "         [1.6110e-01, 1.2644e-01, 2.3465e-01],\n",
       "         [6.4457e-01, 3.8528e-02, 7.3233e-01],\n",
       "         [5.5296e-01, 5.8573e-01, 1.8746e-01],\n",
       "         [2.1393e-01, 4.4447e-01, 8.9932e-01],\n",
       "         [5.2334e-01, 5.0480e-01, 3.9632e-01],\n",
       "         [6.1034e-01, 1.2846e-01, 4.0144e-01],\n",
       "         [7.3330e-01, 8.4380e-01, 4.1560e-01],\n",
       "         [8.4412e-02, 3.0037e-01, 9.5807e-01],\n",
       "         [6.1461e-01, 7.0518e-01, 2.4424e-01],\n",
       "         [4.0638e-01, 2.3640e-01, 2.7470e-01],\n",
       "         [3.3073e-02, 3.8702e-01, 2.7962e-01],\n",
       "         [2.4291e-01, 1.4017e-01, 5.1099e-01],\n",
       "         [1.8316e-01, 5.3229e-01, 3.5630e-01],\n",
       "         [9.2631e-01, 3.2815e-01, 9.5455e-01],\n",
       "         [6.3759e-01, 7.7415e-01, 1.5884e-02],\n",
       "         [6.6170e-01, 9.9011e-01, 3.2587e-03],\n",
       "         [2.6335e-01, 3.7040e-01, 1.1462e-01],\n",
       "         [6.9087e-02, 7.2640e-01, 2.2617e-01],\n",
       "         [2.3643e-01, 6.0664e-01, 6.2677e-01],\n",
       "         [5.7695e-01, 6.1226e-01, 2.2339e-01],\n",
       "         [7.1283e-01, 9.1692e-01, 9.1296e-01],\n",
       "         [9.3282e-01, 7.0971e-01, 7.8733e-01],\n",
       "         [5.0894e-01, 5.7060e-01, 3.2708e-01],\n",
       "         [4.9353e-01, 8.9058e-01, 4.2513e-01],\n",
       "         [2.3239e-01, 9.6776e-01, 7.2950e-01],\n",
       "         [8.0198e-01, 4.6564e-01, 4.7870e-01],\n",
       "         [1.7376e-01, 2.3521e-01, 2.7843e-01],\n",
       "         [1.2574e-01, 5.7583e-01, 1.2940e-02],\n",
       "         [4.4411e-02, 5.9471e-01, 8.2221e-01],\n",
       "         [1.4189e-01, 2.9551e-01, 9.7351e-01],\n",
       "         [8.4943e-01, 1.7585e-01, 6.0283e-02],\n",
       "         [6.3225e-01, 8.2853e-01, 8.4366e-01],\n",
       "         [3.9552e-02, 4.1575e-01, 8.3098e-01],\n",
       "         [9.3135e-01, 4.0456e-01, 4.6518e-01],\n",
       "         [3.8956e-01, 1.9123e-01, 7.7273e-01],\n",
       "         [3.0638e-01, 1.0475e-01, 8.5841e-01],\n",
       "         [6.7322e-01, 1.6270e-01, 4.6978e-01],\n",
       "         [8.6860e-01, 1.0005e-02, 3.7628e-01],\n",
       "         [8.9383e-01, 7.6022e-01, 4.5808e-01],\n",
       "         [4.9676e-01, 5.3535e-01, 9.4716e-01],\n",
       "         [9.7460e-01, 1.8687e-01, 9.2411e-02],\n",
       "         [3.0550e-01, 6.7101e-01, 1.9632e-01],\n",
       "         [1.7425e-01, 1.9705e-01, 5.1228e-01],\n",
       "         [6.1282e-01, 9.7450e-01, 2.8442e-01],\n",
       "         [2.2917e-01, 3.1196e-01, 1.2007e-01],\n",
       "         [8.4115e-01, 6.5255e-02, 5.6034e-01],\n",
       "         [8.3772e-01, 3.8478e-01, 8.3975e-01],\n",
       "         [4.0979e-01, 9.0605e-01, 2.3092e-01],\n",
       "         [3.2677e-01, 2.6851e-01, 3.4327e-01],\n",
       "         [9.2622e-01, 6.6561e-01, 8.5901e-01],\n",
       "         [3.8032e-01, 2.2698e-01, 3.1933e-01],\n",
       "         [6.4416e-01, 1.1515e-01, 4.6162e-01],\n",
       "         [3.1667e-01, 9.6085e-01, 3.0115e-01],\n",
       "         [8.5068e-02, 4.6456e-01, 4.8806e-01],\n",
       "         [9.5093e-01, 5.6126e-01, 3.2076e-01],\n",
       "         [3.3943e-01, 8.3487e-01, 8.6586e-01],\n",
       "         [9.6627e-02, 2.1497e-01, 3.9585e-01],\n",
       "         [6.7899e-01, 6.7143e-01, 6.5822e-01],\n",
       "         [1.3644e-01, 8.0008e-01, 6.1769e-01],\n",
       "         [2.2048e-01, 9.5176e-01, 9.5492e-01],\n",
       "         [1.0265e-01, 3.5535e-01, 2.5399e-01],\n",
       "         [8.9031e-01, 6.5764e-01, 4.8932e-01],\n",
       "         [7.9015e-01, 3.5583e-01, 2.7499e-01],\n",
       "         [5.5899e-01, 1.6597e-01, 7.4843e-02],\n",
       "         [8.2291e-01, 4.2028e-01, 7.9441e-01],\n",
       "         [1.2358e-01, 4.0352e-01, 2.3864e-01],\n",
       "         [1.4048e-01, 5.4155e-01, 8.7022e-01],\n",
       "         [8.1538e-01, 8.9999e-01, 8.9387e-01],\n",
       "         [3.4534e-01, 3.9613e-01, 9.8709e-01],\n",
       "         [8.8171e-02, 8.6194e-01, 5.3574e-01],\n",
       "         [5.1307e-01, 4.6910e-01, 8.5056e-01],\n",
       "         [1.0706e-01, 2.1615e-01, 4.9800e-01],\n",
       "         [2.8045e-01, 9.6885e-01, 5.5638e-01],\n",
       "         [2.7087e-01, 7.9214e-01, 4.3225e-01],\n",
       "         [8.2107e-01, 4.0499e-01, 1.1533e-01],\n",
       "         [3.2911e-01, 4.0761e-01, 4.3209e-01],\n",
       "         [1.2792e-01, 4.7880e-01, 7.3705e-01],\n",
       "         [9.2189e-01, 4.7174e-01, 5.9670e-01],\n",
       "         [4.7700e-01, 2.6754e-01, 7.2213e-01],\n",
       "         [4.0942e-01, 2.1045e-01, 9.6649e-01],\n",
       "         [3.2581e-01, 2.5458e-01, 1.9616e-01],\n",
       "         [2.7794e-02, 3.2738e-01, 7.7134e-03],\n",
       "         [9.3883e-01, 9.0004e-01, 9.2205e-01],\n",
       "         [8.9213e-01, 5.9059e-01, 2.5124e-01],\n",
       "         [6.6538e-01, 3.7611e-01, 2.4868e-01],\n",
       "         [9.6775e-01, 9.4001e-01, 4.8246e-01],\n",
       "         [1.6003e-01, 3.7832e-01, 2.6027e-01],\n",
       "         [2.8500e-01, 2.2960e-01, 1.7503e-02],\n",
       "         [3.6634e-01, 2.2542e-01, 3.0241e-02],\n",
       "         [6.2812e-01, 8.0597e-01, 5.7659e-01],\n",
       "         [9.5907e-02, 3.8751e-01, 6.8652e-01],\n",
       "         [4.9156e-01, 1.9271e-01, 8.3174e-01],\n",
       "         [2.5253e-01, 3.3692e-01, 8.2548e-01],\n",
       "         [9.9541e-01, 2.8716e-02, 8.1948e-01],\n",
       "         [8.5433e-01, 4.9021e-01, 5.9139e-01],\n",
       "         [2.0191e-01, 4.2946e-01, 4.2685e-01],\n",
       "         [2.8015e-01, 8.0351e-01, 5.5237e-01],\n",
       "         [6.9129e-01, 9.6060e-01, 4.4911e-01],\n",
       "         [3.8095e-01, 9.7690e-01, 6.4931e-01],\n",
       "         [4.1204e-01, 2.2676e-01, 8.1980e-01],\n",
       "         [9.5278e-01, 2.8297e-01, 3.5370e-01],\n",
       "         [1.4482e-01, 3.5284e-01, 7.9754e-01],\n",
       "         [2.0361e-01, 7.4620e-01, 9.2227e-01],\n",
       "         [5.9193e-01, 8.0502e-01, 3.0399e-03],\n",
       "         [4.0017e-02, 3.3977e-01, 6.5567e-01],\n",
       "         [9.2564e-01, 7.8709e-01, 3.2957e-01],\n",
       "         [8.8448e-01, 8.8250e-01, 9.3072e-01],\n",
       "         [2.2074e-01, 9.1245e-01, 7.1429e-01],\n",
       "         [5.1941e-01, 5.5075e-02, 4.7915e-01],\n",
       "         [3.7458e-01, 3.3689e-01, 7.1061e-01],\n",
       "         [5.0431e-01, 8.3473e-01, 3.2400e-01],\n",
       "         [9.8585e-01, 4.3010e-01, 5.8826e-01],\n",
       "         [7.4204e-02, 3.0086e-01, 9.8789e-01],\n",
       "         [8.0528e-01, 1.7173e-01, 7.4088e-02],\n",
       "         [4.1866e-02, 3.8252e-01, 8.2171e-01],\n",
       "         [1.3127e-01, 3.1791e-02, 5.4066e-02],\n",
       "         [1.2711e-02, 4.7368e-01, 3.7014e-01],\n",
       "         [5.1300e-01, 7.8156e-01, 8.7424e-02],\n",
       "         [7.4615e-01, 2.7838e-01, 3.2812e-03],\n",
       "         [4.5182e-01, 1.5627e-01, 5.1876e-01],\n",
       "         [5.5371e-01, 2.2099e-02, 9.2558e-02],\n",
       "         [2.6095e-01, 3.3324e-01, 4.8495e-01],\n",
       "         [6.1015e-01, 9.2428e-01, 9.4451e-01],\n",
       "         [4.3032e-01, 1.0467e-01, 2.1493e-01],\n",
       "         [5.2826e-01, 8.4474e-01, 3.2912e-01],\n",
       "         [8.0943e-01, 4.2937e-01, 6.0807e-01],\n",
       "         [5.2995e-01, 2.2932e-01, 1.1766e-01],\n",
       "         [6.7092e-02, 6.9083e-01, 2.0502e-01],\n",
       "         [7.4538e-01, 8.1773e-01, 9.5719e-02],\n",
       "         [7.8230e-01, 1.6105e-01, 1.5307e-01],\n",
       "         [5.5139e-01, 1.0887e-02, 2.4956e-01],\n",
       "         [8.7343e-01, 1.7949e-01, 8.1796e-01],\n",
       "         [7.2257e-01, 6.4124e-01, 3.6892e-01],\n",
       "         [1.9885e-01, 3.6803e-02, 4.8259e-01],\n",
       "         [5.1320e-01, 7.9398e-01, 1.9433e-01],\n",
       "         [2.6779e-01, 1.0607e-02, 7.5310e-01],\n",
       "         [8.4888e-01, 8.4455e-01, 5.0726e-01],\n",
       "         [6.0726e-01, 5.1689e-01, 8.3291e-01],\n",
       "         [5.0348e-01, 5.2259e-01, 7.6747e-01],\n",
       "         [3.2785e-01, 9.4339e-01, 7.7840e-01],\n",
       "         [8.3949e-01, 5.2960e-01, 8.4069e-01],\n",
       "         [8.3959e-01, 2.5580e-01, 3.5009e-01],\n",
       "         [2.9767e-01, 2.3785e-01, 2.7255e-01],\n",
       "         [9.1586e-01, 6.9095e-01, 6.3594e-01],\n",
       "         [1.6809e-01, 7.1715e-01, 3.3590e-01],\n",
       "         [7.1521e-01, 4.0707e-01, 6.4735e-01],\n",
       "         [7.0498e-01, 2.5369e-01, 9.4611e-01],\n",
       "         [7.5783e-01, 6.2136e-01, 9.1378e-01],\n",
       "         [9.1608e-01, 7.1551e-01, 5.8070e-01],\n",
       "         [3.2674e-01, 6.0386e-01, 3.8076e-01],\n",
       "         [5.5873e-01, 8.4882e-01, 9.1967e-01],\n",
       "         [5.6499e-01, 1.0759e-01, 2.6286e-01],\n",
       "         [7.9716e-01, 7.3305e-01, 1.2400e-01],\n",
       "         [1.4821e-02, 6.6036e-01, 1.8548e-01],\n",
       "         [6.4575e-01, 3.3617e-01, 5.7454e-01],\n",
       "         [1.5857e-01, 8.1177e-01, 6.2479e-01],\n",
       "         [4.0897e-01, 8.9001e-01, 8.0871e-02],\n",
       "         [3.4059e-01, 6.8014e-01, 8.6735e-02],\n",
       "         [7.9280e-01, 6.6719e-01, 6.4744e-01],\n",
       "         [5.7474e-01, 3.4342e-01, 3.2437e-01],\n",
       "         [6.9547e-01, 2.4759e-02, 3.1960e-01],\n",
       "         [5.2988e-01, 3.8977e-01, 8.2455e-01],\n",
       "         [3.7510e-01, 8.9447e-01, 7.1288e-01],\n",
       "         [7.1368e-01, 9.6800e-01, 6.5645e-01],\n",
       "         [7.4180e-01, 9.6652e-02, 8.6126e-01],\n",
       "         [6.8242e-01, 7.5503e-01, 5.8243e-01],\n",
       "         [4.4913e-02, 2.2076e-01, 5.6370e-01],\n",
       "         [5.5699e-01, 8.7381e-01, 5.5738e-01],\n",
       "         [7.1208e-01, 4.4735e-01, 9.6724e-01],\n",
       "         [5.4353e-01, 8.3012e-01, 7.9865e-01],\n",
       "         [5.3385e-01, 4.7002e-01, 2.8782e-02],\n",
       "         [1.3118e-01, 8.1619e-01, 1.8193e-01],\n",
       "         [3.5919e-01, 8.2270e-01, 8.4871e-02],\n",
       "         [4.7851e-01, 5.1359e-01, 4.3410e-01],\n",
       "         [2.0844e-01, 5.3070e-01, 2.6592e-01],\n",
       "         [1.1555e-01, 3.1663e-01, 4.6471e-01],\n",
       "         [8.1094e-01, 9.9984e-01, 7.4015e-01],\n",
       "         [1.7358e-01, 1.6195e-01, 9.9650e-01],\n",
       "         [8.3824e-02, 6.9133e-01, 8.7175e-02],\n",
       "         [3.9777e-01, 8.4045e-01, 5.6081e-01],\n",
       "         [3.7031e-01, 1.2621e-01, 8.0670e-01],\n",
       "         [2.7372e-01, 9.1018e-01, 9.3512e-01],\n",
       "         [4.0209e-01, 4.8811e-01, 2.4154e-01],\n",
       "         [2.5568e-01, 5.5401e-01, 4.7976e-01],\n",
       "         [6.4004e-01, 5.5453e-01, 3.7908e-01],\n",
       "         [5.1364e-01, 8.2551e-01, 4.4346e-01]]),\n",
       " torch.Size([224, 3]))"
      ]
     },
     "execution_count": 6,
     "metadata": {},
     "output_type": "execute_result"
    }
   ],
   "source": [
    "## Generating image in number\n",
    "image_gen_numerical = torch.rand(size=(224, 3))\n",
    "image_gen_numerical, image_gen_numerical.shape"
   ]
  },
  {
   "cell_type": "code",
   "execution_count": 21,
   "metadata": {},
   "outputs": [
    {
     "data": {
      "text/plain": [
       "(tensor([[[0.8513, 0.9792, 0.8925],\n",
       "          [0.5891, 0.9517, 0.7830],\n",
       "          [0.9786, 0.5374, 0.0235],\n",
       "          ...,\n",
       "          [0.4296, 0.5430, 0.7900],\n",
       "          [0.6899, 0.7284, 0.6118],\n",
       "          [0.7428, 0.8063, 0.9345]],\n",
       " \n",
       "         [[0.2864, 0.1212, 0.4720],\n",
       "          [0.2563, 0.3255, 0.6749],\n",
       "          [0.8907, 0.1836, 0.8493],\n",
       "          ...,\n",
       "          [0.1934, 0.6194, 0.5432],\n",
       "          [0.4136, 0.8329, 0.1227],\n",
       "          [0.7798, 0.0280, 0.0742]],\n",
       " \n",
       "         [[0.0715, 0.2904, 0.3716],\n",
       "          [0.0853, 0.8256, 0.7412],\n",
       "          [0.7592, 0.4413, 0.2279],\n",
       "          ...,\n",
       "          [0.8652, 0.5025, 0.5822],\n",
       "          [0.1301, 0.5162, 0.4916],\n",
       "          [0.4643, 0.4774, 0.5081]],\n",
       " \n",
       "         ...,\n",
       " \n",
       "         [[0.1068, 0.5377, 0.6919],\n",
       "          [0.6697, 0.5161, 0.8125],\n",
       "          [0.8285, 0.0232, 0.9002],\n",
       "          ...,\n",
       "          [0.3552, 0.3408, 0.5939],\n",
       "          [0.3590, 0.2895, 0.0876],\n",
       "          [0.1829, 0.8046, 0.3570]],\n",
       " \n",
       "         [[0.4928, 0.0962, 0.8046],\n",
       "          [0.3584, 0.0265, 0.6312],\n",
       "          [0.8854, 0.5671, 0.0599],\n",
       "          ...,\n",
       "          [0.7938, 0.3590, 0.4354],\n",
       "          [0.1296, 0.7197, 0.0934],\n",
       "          [0.0405, 0.1297, 0.6798]],\n",
       " \n",
       "         [[0.6769, 0.4368, 0.1519],\n",
       "          [0.4048, 0.9223, 0.2969],\n",
       "          [0.4714, 0.2286, 0.8086],\n",
       "          ...,\n",
       "          [0.2610, 0.5717, 0.7477],\n",
       "          [0.5624, 0.3545, 0.8767],\n",
       "          [0.2695, 0.3995, 0.1751]]]),\n",
       " torch.Size([224, 224, 3]))"
      ]
     },
     "execution_count": 21,
     "metadata": {},
     "output_type": "execute_result"
    }
   ],
   "source": [
    "## Generating 224 pixels\n",
    "img_pixel = torch.rand(size=(224, 224, 3))  ## thes are height (outer dimension), width (column), color channels ()\n",
    "img_pixel, img_pixel.shape"
   ]
  },
  {
   "cell_type": "code",
   "execution_count": 22,
   "metadata": {},
   "outputs": [
    {
     "data": {
      "text/plain": [
       "<matplotlib.image.AxesImage at 0x25438bfbf10>"
      ]
     },
     "execution_count": 22,
     "metadata": {},
     "output_type": "execute_result"
    },
    {
     "data": {
      "image/png": "[encoded data removed]",
      "text/plain": [
       "<Figure size 640x480 with 1 Axes>"
      ]
     },
     "metadata": {},
     "output_type": "display_data"
    }
   ],
   "source": [
    "import matplotlib.pyplot as plt\n",
    "plt.imshow(ten2)"
   ]
  },
  {
   "cell_type": "code",
   "execution_count": 24,
   "metadata": {},
   "outputs": [
    {
     "data": {
      "text/plain": [
       "tensor([[[0.1149, 0.5529, 0.8590,  ..., 0.0578, 0.3242, 0.9061],\n",
       "         [0.7585, 0.5745, 0.1329,  ..., 0.8992, 0.8617, 0.2823],\n",
       "         [0.4960, 0.6631, 0.9147,  ..., 0.0265, 0.2287, 0.5141],\n",
       "         ...,\n",
       "         [0.1553, 0.0445, 0.4404,  ..., 0.0235, 0.4309, 0.2928],\n",
       "         [0.0774, 0.8228, 0.8072,  ..., 0.6296, 0.1918, 0.0155],\n",
       "         [0.9032, 0.9234, 0.2698,  ..., 0.3660, 0.6124, 0.6460]],\n",
       "\n",
       "        [[0.8303, 0.6385, 0.1899,  ..., 0.2936, 0.2565, 0.1643],\n",
       "         [0.6373, 0.0243, 0.1609,  ..., 0.5524, 0.3496, 0.3561],\n",
       "         [0.6187, 0.8384, 0.9564,  ..., 0.2348, 0.4711, 0.0854],\n",
       "         ...,\n",
       "         [0.6356, 0.4387, 0.6145,  ..., 0.9933, 0.9483, 0.2928],\n",
       "         [0.5431, 0.7774, 0.8814,  ..., 0.3163, 0.9916, 0.5234],\n",
       "         [0.4687, 0.1735, 0.7797,  ..., 0.6675, 0.2920, 0.0242]],\n",
       "\n",
       "        [[0.0142, 0.6602, 0.5563,  ..., 0.1208, 0.3328, 0.4958],\n",
       "         [0.4259, 0.2326, 0.2935,  ..., 0.6217, 0.0170, 0.4596],\n",
       "         [0.4964, 0.7492, 0.8152,  ..., 0.3100, 0.8051, 0.6772],\n",
       "         ...,\n",
       "         [0.6657, 0.2433, 0.2455,  ..., 0.9848, 0.2900, 0.8944],\n",
       "         [0.3027, 0.7928, 0.0477,  ..., 0.4865, 0.6947, 0.5420],\n",
       "         [0.7093, 0.0375, 0.7993,  ..., 0.4774, 0.4834, 0.4809]]])"
      ]
     },
     "execution_count": 24,
     "metadata": {},
     "output_type": "execute_result"
    }
   ],
   "source": [
    "## Generating 224 pixels\n",
    "img_pixel_2 = torch.rand(size=(3, 224, 224))  ## thes are color, height (outer dimension), width (column)\n",
    "img_pixel_2"
   ]
  },
  {
   "cell_type": "code",
   "execution_count": 26,
   "metadata": {},
   "outputs": [
    {
     "data": {
      "text/plain": [
       "(tensor([[0., 0., 0., 0.],\n",
       "         [0., 0., 0., 0.],\n",
       "         [0., 0., 0., 0.]]),\n",
       " 2)"
      ]
     },
     "execution_count": 26,
     "metadata": {},
     "output_type": "execute_result"
    }
   ],
   "source": [
    "## Tensor zero\n",
    "ten_zeros = torch.zeros(3, 4)\n",
    "ten_zeros, ten_zeros.ndim"
   ]
  },
  {
   "cell_type": "code",
   "execution_count": null,
   "metadata": {},
   "outputs": [
    {
     "data": {
      "text/plain": [
       "tensor([[1., 1., 1., 1.],\n",
       "        [1., 1., 1., 1.],\n",
       "        [1., 1., 1., 1.],\n",
       "        [1., 1., 1., 1.]])"
      ]
     },
     "execution_count": 27,
     "metadata": {},
     "output_type": "execute_result"
    }
   ],
   "source": [
    "## Tensor ones\n",
    "ten_ones = torch.ones(4, 4)\n",
    "ten_ones"
   ]
  },
  {
   "cell_type": "code",
   "execution_count": 29,
   "metadata": {},
   "outputs": [
    {
     "data": {
      "text/plain": [
       "tensor([ 0,  2,  4,  6,  8, 10, 12, 14, 16, 18, 20, 22, 24, 26, 28, 30, 32, 34,\n",
       "        36, 38, 40, 42, 44, 46, 48])"
      ]
     },
     "execution_count": 29,
     "metadata": {},
     "output_type": "execute_result"
    }
   ],
   "source": [
    "## Range of tensors\n",
    "tensor_range = torch.arange(0, 50, 2)\n",
    "tensor_range"
   ]
  },
  {
   "cell_type": "code",
   "execution_count": 32,
   "metadata": {},
   "outputs": [
    {
     "data": {
      "text/plain": [
       "tensor([1, 1, 1, 1, 1, 1, 1, 1, 1, 1, 1, 1, 1, 1, 1, 1, 1, 1, 1, 1, 1, 1, 1, 1,\n",
       "        1])"
      ]
     },
     "execution_count": 32,
     "metadata": {},
     "output_type": "execute_result"
    }
   ],
   "source": [
    "## Create exactly like tensors actually it uses the shape of any tensors to create new tensor \n",
    "tensor_range_like = torch.ones_like(input=tensor_range)\n",
    "tensor_range_like"
   ]
  },
  {
   "cell_type": "code",
   "execution_count": null,
   "metadata": {},
   "outputs": [],
   "source": []
  }
 ],
 "metadata": {
  "kernelspec": {
   "display_name": "gitml_venv",
   "language": "python",
   "name": "gitml_venv"
  },
  "language_info": {
   "codemirror_mode": {
    "name": "ipython",
    "version": 3
   },
   "file_extension": ".py",
   "mimetype": "text/x-python",
   "name": "python",
   "nbconvert_exporter": "python",
   "pygments_lexer": "ipython3",
   "version": "3.10.9"
  }
 },
 "nbformat": 4,
 "nbformat_minor": 2
}
