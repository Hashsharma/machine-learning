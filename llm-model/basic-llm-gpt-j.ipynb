{
 "cells": [
  {
   "cell_type": "code",
   "execution_count": null,
   "metadata": {
    "vscode": {
     "languageId": "plaintext"
    }
   },
   "outputs": [],
   "source": [
    "from transformers import GPTJForCausalLM\n",
    "import torch\n",
    "\n",
    "device = \"cuda\"\n",
    "model = GPTJForCausalLM.from_pretrained(\n",
    "    \"EleutherAI/gpt-j-6B\",\n",
    "    revision=\"float16\",\n",
    "    torch_dtype=torch.float16,\n",
    ").to(device)"
   ]
  }
 ],
 "metadata": {
  "language_info": {
   "name": "python"
  }
 },
 "nbformat": 4,
 "nbformat_minor": 2
}
